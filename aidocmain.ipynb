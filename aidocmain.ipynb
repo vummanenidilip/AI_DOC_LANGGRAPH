{
 "cells": [
  {
   "cell_type": "code",
   "execution_count": 131,
   "id": "67219d90",
   "metadata": {},
   "outputs": [
    {
     "name": "stderr",
     "output_type": "stream",
     "text": [
      "python-dotenv could not parse statement starting at line 6\n"
     ]
    }
   ],
   "source": [
    "from dotenv import load_dotenv\n",
    "load_dotenv()\n",
    "import os\n",
    "os.environ['OPENAI_API_KEY'] = os.getenv(\"OPENAI_API_KEY\")"
   ]
  },
  {
   "cell_type": "code",
   "execution_count": 132,
   "id": "fb071ca9",
   "metadata": {},
   "outputs": [],
   "source": [
    "from langchain_openai import ChatOpenAI\n",
    "llm = ChatOpenAI(model=\"gpt-4o\")  "
   ]
  },
  {
   "cell_type": "code",
   "execution_count": 133,
   "id": "f0c006dd",
   "metadata": {},
   "outputs": [],
   "source": [
    "\"\"\"import operator\n",
    "from typing import List\n",
    "from langgraph.graph.message import add_messages\n",
    "from pydantic import BaseModel , Field\n",
    "from typing import TypedDict, Annotated, Sequence\n",
    "from langchain_core.messages import BaseMessage\n",
    "from langchain_core.output_parsers import StrOutputParser\n",
    "from langchain_core.prompts import ChatPromptTemplate, PromptTemplate\"\"\"\n",
    "\n",
    "from langchain_core.tools import tool\n",
    "from langchain_core.messages import HumanMessage, AIMessage\n",
    "from langgraph.graph import StateGraph,MessagesState,START,END\n",
    "from langgraph.prebuilt import ToolNode\n"
   ]
  },
  {
   "cell_type": "code",
   "execution_count": 134,
   "id": "a6fa51fa",
   "metadata": {},
   "outputs": [],
   "source": [
    "import faiss\n",
    "from langchain_community.docstore.in_memory import InMemoryDocstore\n",
    "from langchain_community.vectorstores import FAISS"
   ]
  },
  {
   "cell_type": "code",
   "execution_count": 135,
   "id": "94067f76",
   "metadata": {},
   "outputs": [],
   "source": [
    "from langchain_community.document_loaders import TextLoader\n",
    "\n",
    "loader = TextLoader(\"C:\\\\Users\\\\itsme\\\\OneDrive\\\\Documents\\\\Assigment\\\\AI_Doc\\\\sample_contract.txt\")\n",
    "docs = loader.load()"
   ]
  },
  {
   "cell_type": "code",
   "execution_count": 136,
   "id": "a32c1119",
   "metadata": {},
   "outputs": [],
   "source": [
    "from langchain.text_splitter import RecursiveCharacterTextSplitter\n",
    "text_splitter=RecursiveCharacterTextSplitter(\n",
    "    chunk_size=200,\n",
    "    chunk_overlap=50\n",
    ")"
   ]
  },
  {
   "cell_type": "code",
   "execution_count": 137,
   "id": "15e5f411",
   "metadata": {},
   "outputs": [],
   "source": [
    "new_docs=text_splitter.split_documents(documents=docs)"
   ]
  },
  {
   "cell_type": "code",
   "execution_count": 138,
   "id": "b4130d63",
   "metadata": {},
   "outputs": [
    {
     "data": {
      "text/plain": [
       "[Document(metadata={'source': 'C:\\\\Users\\\\itsme\\\\OneDrive\\\\Documents\\\\Assigment\\\\AI_Doc\\\\sample_contract.txt'}, page_content='Service Agreement\\n\\nThis Service Agreement (\"Agreement\") is made between AlphaTech Inc. (\"Provider\") and the Client.'),\n",
       " Document(metadata={'source': 'C:\\\\Users\\\\itsme\\\\OneDrive\\\\Documents\\\\Assigment\\\\AI_Doc\\\\sample_contract.txt'}, page_content='1. Scope of Work:\\nProvider agrees to deliver software development and cloud support services as per the attached Statement of Work (SOW).'),\n",
       " Document(metadata={'source': 'C:\\\\Users\\\\itsme\\\\OneDrive\\\\Documents\\\\Assigment\\\\AI_Doc\\\\sample_contract.txt'}, page_content='2. Payment Terms:\\nClient agrees to pay Provider a monthly retainer of $5,000. Late payments may incur a 2% fee.'),\n",
       " Document(metadata={'source': 'C:\\\\Users\\\\itsme\\\\OneDrive\\\\Documents\\\\Assigment\\\\AI_Doc\\\\sample_contract.txt'}, page_content='3. Confidentiality:\\nBoth parties agree to maintain the confidentiality of proprietary information.\\n\\n4. Termination Clause:\\nEither party may terminate this Agreement with 30 days written notice.'),\n",
       " Document(metadata={'source': 'C:\\\\Users\\\\itsme\\\\OneDrive\\\\Documents\\\\Assigment\\\\AI_Doc\\\\sample_contract.txt'}, page_content='5. Data Security:\\nProvider shall implement appropriate technical and organizational measures to ensure data protection and comply with relevant data privacy laws, including GDPR.'),\n",
       " Document(metadata={'source': 'C:\\\\Users\\\\itsme\\\\OneDrive\\\\Documents\\\\Assigment\\\\AI_Doc\\\\sample_contract.txt'}, page_content=\"6. Limitation of Liability:\\nProvider's liability shall not exceed the total fees paid by the Client in the last 6 months.\"),\n",
       " Document(metadata={'source': 'C:\\\\Users\\\\itsme\\\\OneDrive\\\\Documents\\\\Assigment\\\\AI_Doc\\\\sample_contract.txt'}, page_content='7. Governing Law:\\nThis Agreement shall be governed by the laws of the State of California.\\n\\nIN WITNESS WHEREOF, the parties hereto have executed this Agreement on the date first written above.')]"
      ]
     },
     "execution_count": 138,
     "metadata": {},
     "output_type": "execute_result"
    }
   ],
   "source": [
    "new_docs\n"
   ]
  },
  {
   "cell_type": "code",
   "execution_count": 139,
   "id": "18be81f6",
   "metadata": {},
   "outputs": [
    {
     "data": {
      "text/plain": [
       "['Service Agreement\\n\\nThis Service Agreement (\"Agreement\") is made between AlphaTech Inc. (\"Provider\") and the Client.',\n",
       " '1. Scope of Work:\\nProvider agrees to deliver software development and cloud support services as per the attached Statement of Work (SOW).',\n",
       " '2. Payment Terms:\\nClient agrees to pay Provider a monthly retainer of $5,000. Late payments may incur a 2% fee.',\n",
       " '3. Confidentiality:\\nBoth parties agree to maintain the confidentiality of proprietary information.\\n\\n4. Termination Clause:\\nEither party may terminate this Agreement with 30 days written notice.',\n",
       " '5. Data Security:\\nProvider shall implement appropriate technical and organizational measures to ensure data protection and comply with relevant data privacy laws, including GDPR.',\n",
       " \"6. Limitation of Liability:\\nProvider's liability shall not exceed the total fees paid by the Client in the last 6 months.\",\n",
       " '7. Governing Law:\\nThis Agreement shall be governed by the laws of the State of California.\\n\\nIN WITNESS WHEREOF, the parties hereto have executed this Agreement on the date first written above.']"
      ]
     },
     "execution_count": 139,
     "metadata": {},
     "output_type": "execute_result"
    }
   ],
   "source": [
    "doc_string=[doc.page_content for doc in new_docs]\n",
    "doc_string"
   ]
  },
  {
   "cell_type": "code",
   "execution_count": 140,
   "id": "b08f456f",
   "metadata": {},
   "outputs": [],
   "source": [
    "from langchain_openai import OpenAIEmbeddings\n",
    "\n",
    "embeddings = OpenAIEmbeddings(model=\"text-embedding-3-small\")  # or \"text-embedding-3-large\"\n",
    "db = FAISS.from_documents(new_docs, embeddings)"
   ]
  },
  {
   "cell_type": "code",
   "execution_count": 141,
   "id": "2862f342",
   "metadata": {},
   "outputs": [],
   "source": [
    "db = FAISS.from_documents(new_docs, embeddings)"
   ]
  },
  {
   "cell_type": "code",
   "execution_count": 142,
   "id": "452678ed",
   "metadata": {},
   "outputs": [
    {
     "data": {
      "text/plain": [
       "<langchain_community.vectorstores.faiss.FAISS at 0x2bcfdb3cc10>"
      ]
     },
     "execution_count": 142,
     "metadata": {},
     "output_type": "execute_result"
    }
   ],
   "source": [
    "db"
   ]
  },
  {
   "cell_type": "code",
   "execution_count": 143,
   "id": "f5ad4847",
   "metadata": {},
   "outputs": [],
   "source": [
    "@tool\n",
    "def search_doc(query: str) -> str:\n",
    "    \"\"\"\n",
    "    Search the vector store for documents related to the input query.\n",
    "    Returns the most relevant document chunks.\n",
    "    \"\"\"\n",
    "    if not query:\n",
    "        return \"Please provide a valid query.\"\n",
    "\n",
    "    results = db.similarity_search(query, k=1)  # top 3 relevant chunks\n",
    "    return \"\\n\\n\".join([doc.page_content for doc in results])"
   ]
  },
  {
   "cell_type": "code",
   "execution_count": 144,
   "id": "7adba785",
   "metadata": {},
   "outputs": [],
   "source": [
    "tools=[search_doc]"
   ]
  },
  {
   "cell_type": "code",
   "execution_count": 145,
   "id": "2c611a68",
   "metadata": {},
   "outputs": [],
   "source": [
    "llm_with_tool=llm.bind_tools(tools)"
   ]
  },
  {
   "cell_type": "code",
   "execution_count": 146,
   "id": "e5567b0d",
   "metadata": {},
   "outputs": [],
   "source": [
    "response=llm_with_tool.invoke(\"payment terms?\")"
   ]
  },
  {
   "cell_type": "code",
   "execution_count": 147,
   "id": "abb29f51",
   "metadata": {},
   "outputs": [
    {
     "data": {
      "text/plain": [
       "[{'name': 'search_doc',\n",
       "  'args': {'query': 'payment terms'},\n",
       "  'id': 'call_xCMPUgWrGfjj8NmojCQSnRuK',\n",
       "  'type': 'tool_call'}]"
      ]
     },
     "execution_count": 147,
     "metadata": {},
     "output_type": "execute_result"
    }
   ],
   "source": [
    "response.tool_calls"
   ]
  },
  {
   "cell_type": "code",
   "execution_count": 148,
   "id": "e74a8e4d",
   "metadata": {},
   "outputs": [],
   "source": [
    "def call_model(state:MessagesState):\n",
    "    question=state[\"messages\"]\n",
    "    response=llm_with_tool.invoke(question)\n",
    "    return {\"messages\":[response]}"
   ]
  },
  {
   "cell_type": "code",
   "execution_count": 149,
   "id": "0159ea3d",
   "metadata": {},
   "outputs": [
    {
     "data": {
      "text/plain": [
       "{'messages': ['payment terms?']}"
      ]
     },
     "execution_count": 149,
     "metadata": {},
     "output_type": "execute_result"
    }
   ],
   "source": [
    "input={\"messages\":[\"payment terms?\"]}\n",
    "input"
   ]
  },
  {
   "cell_type": "code",
   "execution_count": 150,
   "id": "170d308f",
   "metadata": {},
   "outputs": [],
   "source": [
    "response=call_model(input)"
   ]
  },
  {
   "cell_type": "code",
   "execution_count": 151,
   "id": "dab8b988",
   "metadata": {},
   "outputs": [],
   "source": [
    "def router_function(state:MessagesState):\n",
    "    message=state[\"messages\"]\n",
    "    last_message=message[-1]\n",
    "    if last_message.tool_calls:\n",
    "        return \"tools\"\n",
    "    return END\n",
    "    "
   ]
  },
  {
   "cell_type": "code",
   "execution_count": 152,
   "id": "ef6ae305",
   "metadata": {},
   "outputs": [
    {
     "data": {
      "text/plain": [
       "[StructuredTool(name='search_doc', description='Search the vector store for documents related to the input query.\\nReturns the most relevant document chunks.', args_schema=<class 'langchain_core.utils.pydantic.search_doc'>, func=<function search_doc at 0x000002BCFD25D2D0>)]"
      ]
     },
     "execution_count": 152,
     "metadata": {},
     "output_type": "execute_result"
    }
   ],
   "source": [
    "tools\n"
   ]
  },
  {
   "cell_type": "code",
   "execution_count": 153,
   "id": "a710d8ed",
   "metadata": {},
   "outputs": [],
   "source": [
    "\n",
    "tool_node=ToolNode(tools)"
   ]
  },
  {
   "cell_type": "code",
   "execution_count": 154,
   "id": "a65f1c4b",
   "metadata": {},
   "outputs": [
    {
     "data": {
      "text/plain": [
       "tools(tags=None, recurse=True, explode_args=False, func_accepts_config=True, func_accepts={'store': ('__pregel_store', None)}, tools_by_name={'search_doc': StructuredTool(name='search_doc', description='Search the vector store for documents related to the input query.\\nReturns the most relevant document chunks.', args_schema=<class 'langchain_core.utils.pydantic.search_doc'>, func=<function search_doc at 0x000002BCFD25D2D0>)}, tool_to_state_args={'search_doc': {}}, tool_to_store_arg={'search_doc': None}, handle_tool_errors=True, messages_key='messages')"
      ]
     },
     "execution_count": 154,
     "metadata": {},
     "output_type": "execute_result"
    }
   ],
   "source": [
    "tool_node"
   ]
  },
  {
   "cell_type": "code",
   "execution_count": 155,
   "id": "e3521f35",
   "metadata": {},
   "outputs": [],
   "source": [
    "workflow=StateGraph(MessagesState)"
   ]
  },
  {
   "cell_type": "code",
   "execution_count": 156,
   "id": "b17102d2",
   "metadata": {},
   "outputs": [
    {
     "data": {
      "text/plain": [
       "<langgraph.graph.state.StateGraph at 0x2bcf9148df0>"
      ]
     },
     "execution_count": 156,
     "metadata": {},
     "output_type": "execute_result"
    }
   ],
   "source": [
    "workflow.add_node(\"llmwithtool\",call_model)\n",
    "\n",
    "workflow.add_node(\"docnode\",tool_node)\n",
    "\n",
    "workflow.add_edge(START,\"llmwithtool\")\n",
    "\n",
    "workflow.add_conditional_edges(\"llmwithtool\",\n",
    "                                router_function,\n",
    "                                {\"tools\":\"docnode\",\n",
    "                                 END:END})"
   ]
  },
  {
   "cell_type": "code",
   "execution_count": 157,
   "id": "be786643",
   "metadata": {},
   "outputs": [],
   "source": [
    "app=workflow.compile()"
   ]
  },
  {
   "cell_type": "code",
   "execution_count": 158,
   "id": "44ce2044",
   "metadata": {},
   "outputs": [
    {
     "data": {
      "image/png": "[encoded data removed]",
      "text/plain": [
       "<langgraph.graph.state.CompiledStateGraph object at 0x000002BCF8DF38E0>"
      ]
     },
     "execution_count": 158,
     "metadata": {},
     "output_type": "execute_result"
    }
   ],
   "source": [
    "app"
   ]
  },
  {
   "cell_type": "code",
   "execution_count": 159,
   "id": "38dd67db",
   "metadata": {},
   "outputs": [],
   "source": [
    "response=app.invoke({\"messages\":[\"hi\"]})"
   ]
  },
  {
   "cell_type": "code",
   "execution_count": 160,
   "id": "52f6e1b7",
   "metadata": {},
   "outputs": [
    {
     "data": {
      "text/plain": [
       "{'messages': [HumanMessage(content='hi', additional_kwargs={}, response_metadata={}, id='1762044a-561b-4f1f-981d-ca24e00ef42f'),\n",
       "  AIMessage(content='Hello! How can I assist you today?', additional_kwargs={'refusal': None}, response_metadata={'token_usage': {'completion_tokens': 10, 'prompt_tokens': 57, 'total_tokens': 67, 'completion_tokens_details': {'accepted_prediction_tokens': 0, 'audio_tokens': 0, 'reasoning_tokens': 0, 'rejected_prediction_tokens': 0}, 'prompt_tokens_details': {'audio_tokens': 0, 'cached_tokens': 0}}, 'model_name': 'gpt-4o-2024-08-06', 'system_fingerprint': 'fp_07871e2ad8', 'id': 'chatcmpl-Bmc20TgKvwO1JbCZ3eg8zPY07QRfq', 'service_tier': 'default', 'finish_reason': 'stop', 'logprobs': None}, id='run--cacd01e7-28cc-420b-9f8c-492edabf4b7d-0', usage_metadata={'input_tokens': 57, 'output_tokens': 10, 'total_tokens': 67, 'input_token_details': {'audio': 0, 'cache_read': 0}, 'output_token_details': {'audio': 0, 'reasoning': 0}})]}"
      ]
     },
     "execution_count": 160,
     "metadata": {},
     "output_type": "execute_result"
    }
   ],
   "source": [
    "response"
   ]
  },
  {
   "cell_type": "code",
   "execution_count": 161,
   "id": "0bdede9f",
   "metadata": {},
   "outputs": [
    {
     "data": {
      "text/plain": [
       "{'messages': [HumanMessage(content='payment terms?', additional_kwargs={}, response_metadata={}, id='6dee5c59-8e96-4a94-8849-698659057c51'),\n",
       "  AIMessage(content='', additional_kwargs={'tool_calls': [{'id': 'call_YjA0JFESjXtmr7i866ZUtNkP', 'function': {'arguments': '{\"query\":\"payment terms\"}', 'name': 'search_doc'}, 'type': 'function'}], 'refusal': None}, response_metadata={'token_usage': {'completion_tokens': 15, 'prompt_tokens': 59, 'total_tokens': 74, 'completion_tokens_details': {'accepted_prediction_tokens': 0, 'audio_tokens': 0, 'reasoning_tokens': 0, 'rejected_prediction_tokens': 0}, 'prompt_tokens_details': {'audio_tokens': 0, 'cached_tokens': 0}}, 'model_name': 'gpt-4o-2024-08-06', 'system_fingerprint': 'fp_07871e2ad8', 'id': 'chatcmpl-Bmc21ZNXyeWcqrwB27Zwn239J5pph', 'service_tier': 'default', 'finish_reason': 'tool_calls', 'logprobs': None}, id='run--44fa331d-a906-47c5-bf26-377bb8714228-0', tool_calls=[{'name': 'search_doc', 'args': {'query': 'payment terms'}, 'id': 'call_YjA0JFESjXtmr7i866ZUtNkP', 'type': 'tool_call'}], usage_metadata={'input_tokens': 59, 'output_tokens': 15, 'total_tokens': 74, 'input_token_details': {'audio': 0, 'cache_read': 0}, 'output_token_details': {'audio': 0, 'reasoning': 0}}),\n",
       "  ToolMessage(content='2. Payment Terms:\\nClient agrees to pay Provider a monthly retainer of $5,000. Late payments may incur a 2% fee.', name='search_doc', id='87af9a29-adfc-4a0b-8488-273c41124e17', tool_call_id='call_YjA0JFESjXtmr7i866ZUtNkP')]}"
      ]
     },
     "execution_count": 161,
     "metadata": {},
     "output_type": "execute_result"
    }
   ],
   "source": [
    "response1=app.invoke({\"messages\":[\"payment terms?\"]})\n",
    "response1"
   ]
  },
  {
   "cell_type": "code",
   "execution_count": 162,
   "id": "8290699d",
   "metadata": {},
   "outputs": [
    {
     "name": "stderr",
     "output_type": "stream",
     "text": [
      "Adding an edge to a graph that has already been compiled. This will not be reflected in the compiled graph.\n"
     ]
    },
    {
     "data": {
      "text/plain": [
       "<langgraph.graph.state.StateGraph at 0x2bcf9148df0>"
      ]
     },
     "execution_count": 162,
     "metadata": {},
     "output_type": "execute_result"
    }
   ],
   "source": [
    "workflow.add_edge(\"docnode\",\"llmwithtool\")"
   ]
  },
  {
   "cell_type": "code",
   "execution_count": null,
   "id": "d097772c",
   "metadata": {},
   "outputs": [],
   "source": [
    "app1=workflow.compile()\n",
    "app1"
   ]
  },
  {
   "cell_type": "code",
   "execution_count": 165,
   "id": "067872bb",
   "metadata": {},
   "outputs": [
    {
     "name": "stdout",
     "output_type": "stream",
     "text": [
      "here is output from llmwithtool\n",
      "_______\n",
      "{'messages': [AIMessage(content='', additional_kwargs={'tool_calls': [{'id': 'call_RIqtDjDK2FyZR5XpHaX31qGF', 'function': {'arguments': '{\"query\":\"payment details\"}', 'name': 'search_doc'}, 'type': 'function'}], 'refusal': None}, response_metadata={'token_usage': {'completion_tokens': 15, 'prompt_tokens': 59, 'total_tokens': 74, 'completion_tokens_details': {'accepted_prediction_tokens': 0, 'audio_tokens': 0, 'reasoning_tokens': 0, 'rejected_prediction_tokens': 0}, 'prompt_tokens_details': {'audio_tokens': 0, 'cached_tokens': 0}}, 'model_name': 'gpt-4o-2024-08-06', 'system_fingerprint': 'fp_a288987b44', 'id': 'chatcmpl-Bmc3u4sQpMGg8G5kuYH6lz3B8keRa', 'service_tier': 'default', 'finish_reason': 'tool_calls', 'logprobs': None}, id='run--e6dc6d68-37e3-4c40-a627-36e8e48e4d60-0', tool_calls=[{'name': 'search_doc', 'args': {'query': 'payment details'}, 'id': 'call_RIqtDjDK2FyZR5XpHaX31qGF', 'type': 'tool_call'}], usage_metadata={'input_tokens': 59, 'output_tokens': 15, 'total_tokens': 74, 'input_token_details': {'audio': 0, 'cache_read': 0}, 'output_token_details': {'audio': 0, 'reasoning': 0}})]}\n",
      "\n",
      "\n",
      "here is output from docnode\n",
      "_______\n",
      "{'messages': [ToolMessage(content='2. Payment Terms:\\nClient agrees to pay Provider a monthly retainer of $5,000. Late payments may incur a 2% fee.', name='search_doc', id='77ca1bc9-2681-40e6-b287-3c5884b5e272', tool_call_id='call_RIqtDjDK2FyZR5XpHaX31qGF')]}\n",
      "\n",
      "\n"
     ]
    }
   ],
   "source": [
    "for output in app.stream({\"messages\":[\"payment details?\"]}):\n",
    "    for key,value in output.items():\n",
    "        print(f\"here is output from {key}\")\n",
    "        print(\"_______\")\n",
    "        print(value)\n",
    "        print(\"\\n\")\n",
    "    "
   ]
  },
  {
   "cell_type": "code",
   "execution_count": 166,
   "id": "3cb9b561",
   "metadata": {},
   "outputs": [
    {
     "name": "stdout",
     "output_type": "stream",
     "text": [
      "here is output from llmwithtool\n",
      "_______\n",
      "{'messages': [AIMessage(content='', additional_kwargs={'tool_calls': [{'id': 'call_fZZ9B4sezUKsgVoI9cAaXx2L', 'function': {'arguments': '{\"query\":\"payment details\"}', 'name': 'search_doc'}, 'type': 'function'}], 'refusal': None}, response_metadata={'token_usage': {'completion_tokens': 15, 'prompt_tokens': 59, 'total_tokens': 74, 'completion_tokens_details': {'accepted_prediction_tokens': 0, 'audio_tokens': 0, 'reasoning_tokens': 0, 'rejected_prediction_tokens': 0}, 'prompt_tokens_details': {'audio_tokens': 0, 'cached_tokens': 0}}, 'model_name': 'gpt-4o-2024-08-06', 'system_fingerprint': 'fp_07871e2ad8', 'id': 'chatcmpl-Bmc4XFtopWPnBmRfinWUIOqZO5xO3', 'service_tier': 'default', 'finish_reason': 'tool_calls', 'logprobs': None}, id='run--b9c9c0b4-e24e-4238-9107-e9fe4c4a7a47-0', tool_calls=[{'name': 'search_doc', 'args': {'query': 'payment details'}, 'id': 'call_fZZ9B4sezUKsgVoI9cAaXx2L', 'type': 'tool_call'}], usage_metadata={'input_tokens': 59, 'output_tokens': 15, 'total_tokens': 74, 'input_token_details': {'audio': 0, 'cache_read': 0}, 'output_token_details': {'audio': 0, 'reasoning': 0}})]}\n",
      "\n",
      "\n",
      "here is output from docnode\n",
      "_______\n",
      "{'messages': [ToolMessage(content='2. Payment Terms:\\nClient agrees to pay Provider a monthly retainer of $5,000. Late payments may incur a 2% fee.', name='search_doc', id='8a14ede6-61e5-4c13-9c54-689254f84bc7', tool_call_id='call_fZZ9B4sezUKsgVoI9cAaXx2L')]}\n",
      "\n",
      "\n",
      "here is output from llmwithtool\n",
      "_______\n",
      "{'messages': [AIMessage(content='The payment terms state that the client agrees to pay the provider a monthly retainer of $5,000. Late payments may incur a 2% fee.', additional_kwargs={'refusal': None}, response_metadata={'token_usage': {'completion_tokens': 33, 'prompt_tokens': 112, 'total_tokens': 145, 'completion_tokens_details': {'accepted_prediction_tokens': 0, 'audio_tokens': 0, 'reasoning_tokens': 0, 'rejected_prediction_tokens': 0}, 'prompt_tokens_details': {'audio_tokens': 0, 'cached_tokens': 0}}, 'model_name': 'gpt-4o-2024-08-06', 'system_fingerprint': 'fp_a288987b44', 'id': 'chatcmpl-Bmc4YV1shMy4Nl1HUWQd87DuCsgUl', 'service_tier': 'default', 'finish_reason': 'stop', 'logprobs': None}, id='run--5ad4591d-4788-4e75-bbcd-8f9c06bc601d-0', usage_metadata={'input_tokens': 112, 'output_tokens': 33, 'total_tokens': 145, 'input_token_details': {'audio': 0, 'cache_read': 0}, 'output_token_details': {'audio': 0, 'reasoning': 0}})]}\n",
      "\n",
      "\n"
     ]
    }
   ],
   "source": [
    "for output in app1.stream({\"messages\":[\"payment details?\"]}):\n",
    "    for key,value in output.items():\n",
    "        print(f\"here is output from {key}\")\n",
    "        print(\"_______\")\n",
    "        print(value)\n",
    "        print(\"\\n\")\n",
    "    "
   ]
  }
 ],
 "metadata": {
  "kernelspec": {
   "display_name": "aenv",
   "language": "python",
   "name": "python3"
  },
  "language_info": {
   "codemirror_mode": {
    "name": "ipython",
    "version": 3
   },
   "file_extension": ".py",
   "mimetype": "text/x-python",
   "name": "python",
   "nbconvert_exporter": "python",
   "pygments_lexer": "ipython3",
   "version": "3.10.18"
  }
 },
 "nbformat": 4,
 "nbformat_minor": 5
}
